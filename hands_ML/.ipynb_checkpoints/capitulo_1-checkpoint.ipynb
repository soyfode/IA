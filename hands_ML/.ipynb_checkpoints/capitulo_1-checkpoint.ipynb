{
 "cells": [
  {
   "cell_type": "markdown",
   "id": "445dc7ee-88b2-474f-8556-1f229877c47c",
   "metadata": {},
   "source": [
    "# Chapter 1\n",
    "## El panorama del aprendizaje automático"
   ]
  },
  {
   "cell_type": "markdown",
   "id": "da4330c3-b25d-4a41-ada7-4a55bb169b31",
   "metadata": {},
   "source": [
    "### Ejercicios"
   ]
  },
  {
   "cell_type": "markdown",
   "id": "84aeeb43-cbd5-4fba-b6f8-07801961f2df",
   "metadata": {},
   "source": [
    "#### 1."
   ]
  },
  {
   "cell_type": "markdown",
   "id": "6704e613-0fbf-4d75-a438-17e4a805ec8f",
   "metadata": {},
   "source": [
    "- 1.\n",
    "\n",
    "¿Cómo definirías el Aprendizaje Automático?\n",
    "\n",
    "Repuesta.- El aprendizaje automático es el] campo de estudio que le da a las computadoras la capacidad de aprender sin ser programadas explícitamente.\n",
    "\n",
    "- 2.\n",
    "\n",
    "¿Puedes nombrar cuatro tipos de problemas donde realza?\n",
    "\n",
    "Respuesta.- Problemas para los que las soluciones existentes requieren muchos ajustes manuales o largas listas de reglas: un algoritmo de aprendizaje automático a menudo puede simplificar el código y funcionar mejor.  Problemas complejos para los que no existe una buena solución utilizando un enfoque tradicional: las mejores técnicas de Machine Learning pueden encontrar una solución.  Entornos fluctuantes: un sistema de Machine Learning puede adaptarse a nuevos datos.  Obtener información sobre problemas complejos y grandes cantidades de datos.\n",
    "\n",
    "- 3 \n",
    "\n",
    "¿Qué es un conjunto de entrenamiento etiquetado?\n",
    "\n",
    "Respuesta.- Es un tipo de aprendizaje supervisado. los datos de entrenamiento que alimenta al algoritmo incluyen las soluciones deseadas.\n",
    "\n",
    "- 4\n",
    "\n",
    "¿Cuáles son las dos tareas supervisadas más comunes?\n",
    "\n",
    "Respuesta.- Clasificación y Regresión.\n",
    "\n",
    "- 5\n",
    "\n",
    "¿Puedes nombrar cuatro tareas comunes no supervisadas?\n",
    "\n",
    "Respuesta.- Extracción de caracterśtica, agrupación jerarquica, detección de anomalías y aprendizaje de reglas de asociación.\n",
    "\n",
    "- 6\n",
    "\n",
    "¿Qué tipo de algoritmo de aprendizaje automático usaría para permitir que un robot camine en varios terrenos desconocidos?\n",
    "\n",
    "Respuesta.- Visualization.\n",
    "\n",
    "- 7\n",
    "\n",
    "¿Qué tipo de algoritmo usaría para segmentar a sus clientes en varios grupos?\n",
    "\n",
    "Respuesta.- Clustering.\n",
    "\n",
    "- 8\n",
    "\n",
    "¿Enmarcaría el problema de la detección de spam como un problema de aprendizaje supervisado o un problema de aprendizaje no supervisado?\n",
    "\n",
    "respuesta.- Aprendizaje supervisado.\n",
    "\n",
    "- 9\n",
    "\n",
    "¿Qué es un sistema de aprendizaje en línea?\n",
    "\n",
    "Respuesta.- En el aprendizaje en línea, usted entrena el sistema de manera incremental alimentándolo con instancias de datos secuencialmente, ya sea individualmente o en pequeños grupos llamados mini lotes. Cada paso de aprendizaje es rápido y económico, por lo que el sistema puede aprender sobre nuevos datos sobre la marcha, a medida que llegan.\n",
    "\n",
    "- 10\n",
    "\n",
    "¿Qué es el aprendizaje fuera del núcleo?\n",
    "\n",
    "Respuesta.- Los algoritmos de aprendizaje en línea también se pueden usar para entrenar sistemas en grandes conjuntos de datos que no caben en la memoria principal de una máquina (esto se denomina aprendizaje fuera del núcleo). El algoritmo carga parte de los datos, ejecuta un paso de entrenamiento en esos datos y repite el proceso hasta que se ejecuta en todos los datos\n",
    "\n",
    "- 11\n",
    "\n",
    "¿Qué tipo de algoritmo de aprendizaje se basa en una medida de similitud para hacer predicciones?\n",
    "\n",
    "Respuesta.- aprendizaje basado en instancias.\n",
    "\n",
    "- 12\n",
    "\n",
    "¿Cuál es la diferencia entre un parámetro de modelo y el hiperparámetro de un algoritmo de aprendizaje?\n",
    "\n",
    "Respuesta.-\n"
   ]
  },
  {
   "cell_type": "markdown",
   "id": "960036d6-6e4c-4648-bd8f-d921fd3b3eda",
   "metadata": {},
   "source": [
    "El aprendizaje automático se trata de hacer que las máquinas mejoren en alguna tarea aprendiendo de los datos, en lugar de tener que codificar reglas explícitamente. \n",
    "- Hay muchos tipos diferentes de sistemas de ML: supervisados o no, por lotes o en línea, basados en instancias o basados en modelos, etc. \n",
    "- En un proyecto de ML, recopila datos en un conjunto de entrenamiento y alimenta el conjunto de entrenamiento a un algoritmo de aprendizaje. Si el algoritmo está basado en un modelo, ajusta algunos parámetros para ajustar el modelo al conjunto de entrenamiento (es decir, para hacer buenas predicciones sobre el propio conjunto de entrenamiento), y luego, con suerte, también podrá hacer buenas predicciones sobre nuevos casos. Si el algoritmo está basado en instancias, simplemente aprende los ejemplos de memoria y generaliza a nuevas instancias comparándolas con las instancias aprendidas usando una medida de similitud. \n",
    "- El sistema no funcionará bien si su conjunto de entrenamiento es demasiado pequeño o si los datos no son representativos, tienen ruido o están contaminados con características irrelevantes (entrada basura, salida basura). Por último, su modelo no debe ser ni demasiado simple (en cuyo caso se ajustará mal) ni demasiado complejo (en cuyo caso se ajustará demasiado). "
   ]
  },
  {
   "cell_type": "code",
   "execution_count": null,
   "id": "6b3a3491-c7a5-4307-9348-515b6266c96f",
   "metadata": {},
   "outputs": [],
   "source": [
    "# testing and validating pag 31"
   ]
  }
 ],
 "metadata": {
  "kernelspec": {
   "display_name": "Python 3",
   "language": "python",
   "name": "python3"
  },
  "language_info": {
   "codemirror_mode": {
    "name": "ipython",
    "version": 3
   },
   "file_extension": ".py",
   "mimetype": "text/x-python",
   "name": "python",
   "nbconvert_exporter": "python",
   "pygments_lexer": "ipython3",
   "version": "3.10.4"
  }
 },
 "nbformat": 4,
 "nbformat_minor": 5
}
