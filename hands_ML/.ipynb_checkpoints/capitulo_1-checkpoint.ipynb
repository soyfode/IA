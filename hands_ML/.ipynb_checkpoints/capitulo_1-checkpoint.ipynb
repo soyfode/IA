{
 "cells": [
  {
   "cell_type": "markdown",
   "id": "445dc7ee-88b2-474f-8556-1f229877c47c",
   "metadata": {},
   "source": [
    "# Chapter 1\n",
    "## El panorama del aprendizaje automático"
   ]
  },
  {
   "cell_type": "markdown",
   "id": "da4330c3-b25d-4a41-ada7-4a55bb169b31",
   "metadata": {},
   "source": [
    "### Ejercicios"
   ]
  },
  {
   "cell_type": "markdown",
   "id": "84aeeb43-cbd5-4fba-b6f8-07801961f2df",
   "metadata": {},
   "source": [
    "#### 1."
   ]
  },
  {
   "cell_type": "markdown",
   "id": "6704e613-0fbf-4d75-a438-17e4a805ec8f",
   "metadata": {},
   "source": [
    "- 1.\n",
    "\n",
    "¿Cómo definirías el Aprendizaje Automático?\n",
    "\n",
    "Repuesta.- El aprendizaje automático es el] campo de estudio que le da a las computadoras la capacidad de aprender sin ser programadas explícitamente.\n",
    "\n",
    "- 2.\n",
    "\n",
    "¿Puedes nombrar cuatro tipos de problemas donde realza?\n",
    "\n",
    "Respuesta.- Problemas para los que las soluciones existentes requieren muchos ajustes manuales o largas listas de reglas: un algoritmo de aprendizaje automático a menudo puede simplificar el código y funcionar mejor.  Problemas complejos para los que no existe una buena solución utilizando un enfoque tradicional: las mejores técnicas de Machine Learning pueden encontrar una solución.  Entornos fluctuantes: un sistema de Machine Learning puede adaptarse a nuevos datos.  Obtener información sobre problemas complejos y grandes cantidades de datos.\n",
    "\n",
    "- 3 \n",
    "\n",
    "¿Qué es un conjunto de entrenamiento etiquetado?\n",
    "\n",
    "Respuesta.- Es un tipo de aprendizaje supervisado.\n",
    "\n",
    "- 4\n",
    "\n",
    "¿Cuáles son las dos tareas supervisadas más comunes?\n",
    "\n",
    "Respuesta.- Clasificación y Regresión.\n",
    "\n",
    "- 5\n"
   ]
  },
  {
   "cell_type": "code",
   "execution_count": null,
   "id": "43ff7b8d-f2ce-4984-8a3a-8d512ae02c41",
   "metadata": {},
   "outputs": [],
   "source": []
  }
 ],
 "metadata": {
  "kernelspec": {
   "display_name": "Python 3",
   "language": "python",
   "name": "python3"
  },
  "language_info": {
   "codemirror_mode": {
    "name": "ipython",
    "version": 3
   },
   "file_extension": ".py",
   "mimetype": "text/x-python",
   "name": "python",
   "nbconvert_exporter": "python",
   "pygments_lexer": "ipython3",
   "version": "3.10.4"
  }
 },
 "nbformat": 4,
 "nbformat_minor": 5
}
